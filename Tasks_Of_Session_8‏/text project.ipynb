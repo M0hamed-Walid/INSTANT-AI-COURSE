{
 "cells": [
  {
   "cell_type": "code",
   "execution_count": 24,
   "id": "10533571",
   "metadata": {
    "scrolled": true
   },
   "outputs": [
    {
     "name": "stdout",
     "output_type": "stream",
     "text": [
      "['Ahmed Hafez', '01023445678 ahmed', 'Ali Osama', '01243423422 ali'] \n",
      "\n",
      "['01023445678', '01243423422'] \n",
      "\n",
      "['ahmed@gmail.com', 'ali@gmail.com']\n"
     ]
    }
   ],
   "source": [
    "import re\n",
    "\n",
    "mo_file = open(\"course_text.txt\",\"r\")\n",
    "\n",
    "mo_string = \"\"\n",
    "\n",
    "name_list = [] \n",
    "numbers_list = [] \n",
    "emails_list = []\n",
    "\n",
    "for line in mo_file :\n",
    "    mo_string+=line\n",
    "    \n",
    "    \n",
    "mo_search_ph = re.compile(\"(010|011|012)\\d{8}\")\n",
    "mo_counter_ph = mo_search_ph.finditer(mo_string)\n",
    "\n",
    "for phone in mo_counter_ph:\n",
    "    start = phone.span()[0]\n",
    "    end = phone.span()[1]\n",
    "    numbers_list.append(mo_string[start:end])\n",
    "    \n",
    "    \n",
    "mo_search_em = re.compile(\"[A-Za-z]+@[A-Za-z]+\\.com\")\n",
    "mo_counter_em = mo_search_em.finditer(mo_string)\n",
    "\n",
    "for email in mo_counter_em:\n",
    "    start = email.span()[0]\n",
    "    end = email.span()[1]\n",
    "    emails_list.append(mo_string[start:end])\n",
    "    \n",
    "mo_search_nam = re.compile(\"\\w+[  ]\\w+\")\n",
    "mo_counter_nam = mo_search_nam.finditer(mo_string)\n",
    "\n",
    "for name in mo_counter_nam:\n",
    "    start = name.span()[0]\n",
    "    end = name.span()[1]\n",
    "    name_list.append(mo_string[start:end])\n",
    "    \n",
    "    \n",
    "print(name_list,\"\\n\")\n",
    "print(numbers_list,\"\\n\")\n",
    "print(emails_list)"
   ]
  }
 ],
 "metadata": {
  "kernelspec": {
   "display_name": "Python 3 (ipykernel)",
   "language": "python",
   "name": "python3"
  },
  "language_info": {
   "codemirror_mode": {
    "name": "ipython",
    "version": 3
   },
   "file_extension": ".py",
   "mimetype": "text/x-python",
   "name": "python",
   "nbconvert_exporter": "python",
   "pygments_lexer": "ipython3",
   "version": "3.11.4"
  }
 },
 "nbformat": 4,
 "nbformat_minor": 5
}
