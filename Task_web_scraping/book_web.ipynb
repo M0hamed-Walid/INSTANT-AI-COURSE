{
 "cells": [
  {
   "cell_type": "code",
   "execution_count": 1,
   "id": "0b73ccbb",
   "metadata": {},
   "outputs": [],
   "source": [
    "import requests\n",
    "from bs4 import BeautifulSoup\n",
    "import csv"
   ]
  },
  {
   "cell_type": "code",
   "execution_count": 2,
   "id": "04405f2a",
   "metadata": {},
   "outputs": [],
   "source": [
    "url = requests.get(\"https://www.jumia.com.eg/ar/religious-books/\")\n",
    "soup = BeautifulSoup(url.text,'lxml')"
   ]
  },
  {
   "cell_type": "code",
   "execution_count": 3,
   "id": "3971400f",
   "metadata": {},
   "outputs": [],
   "source": [
    "books = soup.findAll('article',{'class':'prd _fb col c-prd'})"
   ]
  },
  {
   "cell_type": "code",
   "execution_count": 7,
   "id": "f79fddbf",
   "metadata": {},
   "outputs": [],
   "source": [
    "with open('books.csv','w',encoding='utf-8',newline='\\n') as bofile:\n",
    "    writer = csv.writer(bofile)\n",
    "    writer.writerow(['الأسم','السعر'])\n",
    "    \n",
    "    for book in books:\n",
    "        title = book.find('h3','name').text\n",
    "        price = book.find('div','prc').text\n",
    "        writer.writerow([title,price])"
   ]
  },
  {
   "cell_type": "code",
   "execution_count": null,
   "id": "b7ad6720",
   "metadata": {},
   "outputs": [],
   "source": []
  }
 ],
 "metadata": {
  "kernelspec": {
   "display_name": "Python 3 (ipykernel)",
   "language": "python",
   "name": "python3"
  },
  "language_info": {
   "codemirror_mode": {
    "name": "ipython",
    "version": 3
   },
   "file_extension": ".py",
   "mimetype": "text/x-python",
   "name": "python",
   "nbconvert_exporter": "python",
   "pygments_lexer": "ipython3",
   "version": "3.11.4"
  },
  "varInspector": {
   "cols": {
    "lenName": 16,
    "lenType": 16,
    "lenVar": 40
   },
   "kernels_config": {
    "python": {
     "delete_cmd_postfix": "",
     "delete_cmd_prefix": "del ",
     "library": "var_list.py",
     "varRefreshCmd": "print(var_dic_list())"
    },
    "r": {
     "delete_cmd_postfix": ") ",
     "delete_cmd_prefix": "rm(",
     "library": "var_list.r",
     "varRefreshCmd": "cat(var_dic_list()) "
    }
   },
   "types_to_exclude": [
    "module",
    "function",
    "builtin_function_or_method",
    "instance",
    "_Feature"
   ],
   "window_display": false
  }
 },
 "nbformat": 4,
 "nbformat_minor": 5
}
